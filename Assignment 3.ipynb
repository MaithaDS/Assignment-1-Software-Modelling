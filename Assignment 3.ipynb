{
  "nbformat": 4,
  "nbformat_minor": 0,
  "metadata": {
    "colab": {
      "provenance": [],
      "authorship_tag": "ABX9TyOT60uYkzq8PK8HVZQb8JBx",
      "include_colab_link": true
    },
    "kernelspec": {
      "name": "python3",
      "display_name": "Python 3"
    },
    "language_info": {
      "name": "python"
    }
  },
  "cells": [
    {
      "cell_type": "markdown",
      "metadata": {
        "id": "view-in-github",
        "colab_type": "text"
      },
      "source": [
        "<a href=\"https://colab.research.google.com/github/MaithaDS/Assignment-1-Software-Modelling/blob/main/Assignment%203.ipynb\" target=\"_parent\"><img src=\"https://colab.research.google.com/assets/colab-badge.svg\" alt=\"Open In Colab\"/></a>"
      ]
    },
    {
      "cell_type": "code",
      "execution_count": null,
      "metadata": {
        "id": "_ZZc9KSXOHSp"
      },
      "outputs": [],
      "source": [
        "import tkinter as tk\n",
        "from tkinter import ttk\n",
        "import pickle\n",
        "\n",
        "class EventCoordinator:\n",
        "    def __init__(self):\n",
        "        self.load_info()\n",
        "\n",
        "        #Loading data from binary files\n",
        "    def load_info(self):\n",
        "        #Creating :employee, event, client, supplier, guest, and venue data\n",
        "\n",
        "        #Save data to binary files\n",
        "    def save_info(self):\n",
        "\n",
        "        #Adding employee to the system\n",
        "    def add_staff(self):\n",
        "\n",
        "          #Deleting employee from the system\n",
        "    def eliminate_staff(self, employee_id):\n",
        "\n",
        "    def amend_staff(self, employee_id):\n",
        "        #Checking info of an employee\n",
        "\n",
        "        #Displaying info of an employee  with the given their ID number\n",
        "    def show_staff_details(self, employee_id):\n",
        "\n",
        "    #Methods for: events, clients, guests, suppliers, and venues\n",
        "class EventCoordinatorGUI(tk.Tk):\n",
        "    def __init__(self):\n",
        "        super().__init__()\n",
        "        self.title(\"Event Coordinator\")\n",
        "        self.geometry(\"800x600\")\n",
        "        self.coordinator = EventCoordinator()\n",
        "        self.create_widgets()\n",
        "\n",
        "    def create_widgets(self):\n",
        "        # Create tabs for different functionalities\n",
        "        tab_control = ttk.Notebook(self)\n",
        "        tab_employee = ttk.Frame(tab_control)\n",
        "        tab_event = ttk.Frame(tab_control)\n",
        "        tab_client = ttk.Frame(tab_control)\n",
        "        tab_supplier = ttk.Frame(tab_control)\n",
        "        tab_guest = ttk.Frame(tab_control)\n",
        "        tab_venue = ttk.Frame(tab_control)\n",
        "\n",
        "        tab_control.add(tab_employee, text=\"Employees\")\n",
        "        tab_control.add(tab_event, text=\"Events\")\n",
        "        tab_control.add(tab_client, text=\"Clients\")\n",
        "        tab_control.add(tab_supplier, text=\"Suppliers\")\n",
        "        tab_control.add(tab_guest, text=\"Guests\")\n",
        "        tab_control.add(tab_venue, text=\"Venues\")\n",
        "\n",
        "        tab_control.pack(expand=1, fill=\"both\")\n",
        "\n",
        "        #Adding employee management\n",
        "        lbl_employee_id = tk.Label(tab_employee, text=\"Employee ID:\")\n",
        "        lbl_employee_id.grid(row=0, column=0, padx=5, pady=5)\n",
        "        entry_employee_id = tk.Entry(tab_employee)\n",
        "        entry_employee_id.grid(row=0, column=1, padx=5, pady=5)\n",
        "        btn_display_employee = tk.Button(tab_employee, text=\"Display Employee Details\", command=self.show_employee)\n",
        "        btn_display_employee.grid(row=0, column=2, padx=5, pady=5)\n",
        "\n",
        "        #Widgets for other functionalities\n",
        "\n",
        "    def show_employee(self):\n",
        "        employee_id = entry_employee_id.get()\n",
        "        self.coordinator.show_staff_details(employee_id)\n",
        "        #Displaying employee info in a new window\n",
        "\n",
        "\n",
        "if __name__ == \"__main__\":\n",
        "    app = EventCoordinatorGUI()\n",
        "    app.mainloop()\n"
      ]
    }
  ]
}